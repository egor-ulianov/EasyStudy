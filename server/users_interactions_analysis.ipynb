{
 "cells": [
  {
   "cell_type": "code",
   "execution_count": 24,
   "metadata": {
    "collapsed": true,
    "pycharm": {
     "name": "#%%\n"
    }
   },
   "outputs": [
    {
     "name": "stdout",
     "output_type": "stream",
     "text": [
      "EASE\n",
      "[632, 1136, 341, 1129, 360, 412, 262, 226, 366, 896, 875, 1147, 1287, 1150, 358, 814, 1146, 546, 144, 715]\n",
      "[875, 1147, 1287, 320, 1150, 1146, 814, 358, 1136, 546]\n",
      "EASE\n",
      "[299, 292, 697, 1138, 1142, 43, 1148, 496, 472, 376, 386, 1083, 1149, 629, 308, 815, 192]\n",
      "[1148, 496, 299, 472, 376, 629, 1149, 1083, 386, 580]\n",
      "EASE\n",
      "[468, 1313, 701, 749, 125, 980, 36, 45, 1110, 1070, 268, 1174, 786, 293, 438, 1052, 706, 544]\n",
      "[268, 1174, 786, 293, 438, 544, 706, 1313, 36, 1052]\n",
      "EASE\n",
      "[758, 962, 334, 1048, 344, 639, 56, 1135, 898, 68, 255, 0, 65, 633]\n",
      "[758, 1062, 962, 334, 1048, 1135, 0, 56, 639, 344]\n",
      "Combined Neural Recommender System\n",
      "[632, 1136, 341, 1129, 360, 412, 262, 226, 366, 896, 875, 1147, 1287, 1150, 358, 814, 1146, 546, 144, 715]\n",
      "[366, 1129, 1406, 715, 144, 360, 412, 632, 262, 1136]\n",
      "Combined Neural Recommender System\n",
      "[299, 292, 697, 1138, 1142, 43, 1148, 496, 472, 376, 386, 1083, 1149, 629, 308, 815, 192]\n",
      "[295, 1138, 308, 815, 584, 192, 697, 43, 540, 292]\n",
      "Combined Neural Recommender System\n",
      "[468, 1313, 701, 749, 125, 980, 36, 45, 1110, 1070, 268, 1174, 786, 293, 438, 1052, 706, 544]\n",
      "[749, 1110, 1070, 125, 185, 980, 1313, 701, 924, 45]\n",
      "Combined Neural Recommender System\n",
      "[758, 962, 334, 1048, 344, 639, 56, 1135, 898, 68, 255, 0, 65, 633]\n",
      "[898, 735, 68, 0, 255, 633, 188, 348, 65, 949]\n",
      "Combined Neural Diversity Recommender System\n",
      "[632, 1136, 341, 1129, 360, 412, 262, 226, 366, 896, 875, 1147, 1287, 1150, 358, 814, 1146, 546, 144, 715]\n",
      "[632, 1136, 341, 1129, 360, 896, 366, 226, 262, 412]\n",
      "Combined Neural Diversity Recommender System\n",
      "[299, 292, 697, 1138, 1142, 43, 1148, 496, 472, 376, 386, 1083, 1149, 629, 308, 815, 192]\n",
      "[299, 292, 192, 584, 540, 43, 1142, 1138, 697, 295]\n",
      "Combined Neural Diversity Recommender System\n",
      "[468, 1313, 701, 749, 125, 980, 36, 45, 1110, 1070, 268, 1174, 786, 293, 438, 1052, 706, 544]\n",
      "[468, 1313, 701, 749, 125, 1070, 1110, 45, 36, 980]\n",
      "Combined Neural Diversity Recommender System\n",
      "[758, 962, 334, 1048, 344, 639, 56, 1135, 898, 68, 255, 0, 65, 633]\n",
      "[255, 735, 1048, 188, 633, 1080, 898, 65, 0, 541]\n",
      "EASE - Average nDCG@10: 0.9716, Average Gini Coefficient: 0.0000\n",
      "Combined Neural Recommender System - Average nDCG@10: 0.9027, Average Gini Coefficient: 0.0000\n",
      "Combined Neural Diversity Recommender System - Average nDCG@10: 0.9508, Average Gini Coefficient: 0.0000\n"
     ]
    }
   ],
   "source": [
    "import json\n",
    "\n",
    "with open('./static/evaluations/neural-experiments/1-iteration-started.json', 'r') as file:\n",
    "    iteration_started_data = json.load(file)\n",
    "\n",
    "with open('./static/evaluations/neural-experiments/1-iteration-ended.json', 'r') as file:\n",
    "    iteration_finished_data = json.load(file)\n",
    "\n",
    "started_movies = iteration_started_data['movies']\n",
    "\n",
    "finished_selected = iteration_finished_data['selected']\n",
    "\n",
    "def ndcg_at_k(r, k):\n",
    "    r = np.asfarray(r)[:k]\n",
    "    if r.size == 0:\n",
    "        return 0.0\n",
    "    dcg = np.sum(r / np.log2(np.arange(2, r.size + 2)))\n",
    "    idcg = np.sum(np.sort(r)[::-1] / np.log2(np.arange(2, r.size + 2)))\n",
    "    return dcg / idcg if idcg > 0 else 0.0\n",
    "\n",
    "def calculate_ndcg(recommended_items, actual_relevant_items, k=10):\n",
    "    relevance_scores = [1 if item in actual_relevant_items else 0 for item in recommended_items]\n",
    "    return ndcg_at_k(relevance_scores, k)\n",
    "\n",
    "def gini_coefficient(x):\n",
    "    x = np.array(x, dtype=float)\n",
    "    if np.amin(x) < 0:\n",
    "        x -= np.amin(x)\n",
    "    x += 0.0000001\n",
    "    x = np.sort(x)\n",
    "    index = np.arange(1, x.shape[0] + 1)\n",
    "    n = x.shape[0]\n",
    "    return ((np.sum((2 * index - n - 1) * x)) / (n * np.sum(x)))\n",
    "\n",
    "\n",
    "def evaluate_recommender(iteration_started_data, iteration_finished_data):\n",
    "    results = {\n",
    "        'EASE': {'ndcg': [], 'gini': []},\n",
    "        'Combined Neural Recommender System': {'ndcg': [], 'gini': []},\n",
    "        'Combined Neural Diversity Recommender System': {'ndcg': [], 'gini': []}\n",
    "    }\n",
    "\n",
    "    for algorithm, movies_data in iteration_started_data['shown'].items():\n",
    "        for rec_idx, recommended_items in enumerate(movies_data):\n",
    "            actual_relevant_items = iteration_finished_data['selected'][rec_idx]\n",
    "\n",
    "            ndcg_score = calculate_ndcg(recommended_items, actual_relevant_items, k=10)\n",
    "            results[algorithm]['ndcg'].append(ndcg_score)\n",
    "\n",
    "    for algorithm in results:\n",
    "        avg_ndcg = np.mean(results[algorithm]['ndcg'])\n",
    "        print(f'{algorithm} - Average nDCG@10: {avg_ndcg:.4f}')\n",
    "\n",
    "evaluate_recommender(iteration_started_data, iteration_finished_data)"
   ]
  },
  {
   "cell_type": "code",
   "execution_count": 31,
   "outputs": [],
   "source": [
    "import pandas as pd\n",
    "import json\n",
    "import numpy as np\n",
    "\n",
    "def ndcg_at_k(r, k):\n",
    "    r = np.asfarray(r)[:k]\n",
    "    if r.size == 0:\n",
    "        return 0.0\n",
    "    dcg = np.sum(r / np.log2(np.arange(2, r.size + 2)))\n",
    "    idcg = np.sum(np.sort(r)[::-1] / np.log2(np.arange(2, r.size + 2)))\n",
    "    return dcg / idcg if idcg > 0 else 0.0\n",
    "\n",
    "def calculate_ndcg(recommended_items, actual_relevant_items, k=10):\n",
    "    relevance_scores = [1 if item in actual_relevant_items else 0 for item in recommended_items]\n",
    "    return ndcg_at_k(relevance_scores, k)\n",
    "\n",
    "def gini_coefficient(x):\n",
    "    x = np.array(x, dtype=float)\n",
    "    if np.amin(x) < 0:\n",
    "        x -= np.amin(x)\n",
    "    x += 0.0000001\n",
    "    x = np.sort(x)\n",
    "    index = np.arange(1, x.shape[0] + 1)\n",
    "    n = x.shape[0]\n",
    "    return ((np.sum((2 * index - n - 1) * x)) / (n * np.sum(x)))\n",
    "\n",
    "recommendation_counts = {\n",
    "    'EASE': pd.Series(dtype=int),\n",
    "    'Combined Neural Recommender System': pd.Series(dtype=int),\n",
    "    'Combined Neural Diversity Recommender System': pd.Series(dtype=int)\n",
    "}\n",
    "results = {\n",
    "    'EASE': {'ndcg': [], 'gini': []},\n",
    "    'Combined Neural Recommender System': {'ndcg': [], 'gini': []},\n",
    "    'Combined Neural Diversity Recommender System': {'ndcg': [], 'gini': []}\n",
    "}\n",
    "\n",
    "def calculate_for_directory(directory_name):\n",
    "    for iteration_number in range(1, 4):\n",
    "        try:\n",
    "            with open(f'{directory_name}{iteration_number}-iteration-started.json', 'r') as file:\n",
    "                iteration_started_data = json.load(file)\n",
    "\n",
    "            with open(f'{directory_name}{iteration_number}-iteration-ended.json', 'r') as file:\n",
    "                iteration_finished_data = json.load(file)\n",
    "\n",
    "            for algorithm, movies_data in iteration_started_data['shown'].items():\n",
    "                for rec_idx, recommended_items in enumerate(movies_data):\n",
    "                    actual_relevant_items = iteration_finished_data['selected'][rec_idx]\n",
    "\n",
    "                    for item in recommended_items:\n",
    "                        if item in recommendation_counts[algorithm]:\n",
    "                            recommendation_counts[algorithm][item] += 1\n",
    "                        else:\n",
    "                            recommendation_counts[algorithm][item] = 1\n",
    "\n",
    "                    ndcg_score = calculate_ndcg(recommended_items, actual_relevant_items, k=10)\n",
    "                    results[algorithm]['ndcg'].append(ndcg_score)\n",
    "\n",
    "            if iteration_number % 3 == 0:\n",
    "                for algorithm in recommendation_counts:\n",
    "                    item_counts = recommendation_counts[algorithm].values\n",
    "                    gini_score = gini_coefficient(item_counts)\n",
    "                    results[algorithm]['gini'].append(gini_score)\n",
    "\n",
    "        except FileNotFoundError:\n",
    "            print(f\"Files for iteration {iteration_number} not found.\")\n",
    "            continue\n",
    "\n",
    "    for algorithm in results:\n",
    "        avg_ndcg = np.mean(results[algorithm]['ndcg'])\n",
    "        avg_gini = np.mean(results[algorithm]['gini'])\n",
    "        print(f'{algorithm} - Average nDCG@10: {avg_ndcg:.4f}, Average Gini Coefficient: {avg_gini:.4f}')\n",
    "\n"
   ],
   "metadata": {
    "collapsed": false,
    "pycharm": {
     "name": "#%%\n"
    }
   }
  },
  {
   "cell_type": "markdown",
   "source": [
    "Calculations for simple scenario - 0.3 item-to-item weight and 0.2 for diversity"
   ],
   "metadata": {
    "collapsed": false,
    "pycharm": {
     "name": "#%% md\n"
    }
   }
  },
  {
   "cell_type": "code",
   "execution_count": 28,
   "outputs": [
    {
     "name": "stdout",
     "output_type": "stream",
     "text": [
      "EASE - Average nDCG@10: 0.9203, Average Gini Coefficient: 0.2172\n",
      "Combined Neural Recommender System - Average nDCG@10: 0.8705, Average Gini Coefficient: 0.1561\n",
      "Combined Neural Diversity Recommender System - Average nDCG@10: 0.9051, Average Gini Coefficient: 0.1561\n"
     ]
    }
   ],
   "source": [
    "directory = './static/evaluations/neural-experiments/'\n",
    "calculate_for_directory(directory)"
   ],
   "metadata": {
    "collapsed": false,
    "pycharm": {
     "name": "#%%\n"
    }
   }
  },
  {
   "cell_type": "markdown",
   "source": [
    "Calculations for simple scenario - 0.8 neural weight on the first, 0.6 neural weight and 0.3 diversity weight on the second"
   ],
   "metadata": {
    "collapsed": false,
    "pycharm": {
     "name": "#%% md\n"
    }
   }
  },
  {
   "cell_type": "code",
   "execution_count": 29,
   "outputs": [
    {
     "name": "stdout",
     "output_type": "stream",
     "text": [
      "EASE - Average nDCG@10: 0.9302, Average Gini Coefficient: 0.2667\n",
      "Combined Neural Recommender System - Average nDCG@10: 0.8809, Average Gini Coefficient: 0.2253\n",
      "Combined Neural Diversity Recommender System - Average nDCG@10: 0.9206, Average Gini Coefficient: 0.1987\n"
     ]
    }
   ],
   "source": [
    "directory_more_neural = './static/evaluations/more-neural/'\n",
    "calculate_for_directory(directory_more_neural)"
   ],
   "metadata": {
    "collapsed": false,
    "pycharm": {
     "name": "#%%\n"
    }
   }
  },
  {
   "cell_type": "markdown",
   "source": [
    "Calculations for both 0.3 neural weights and 0.4 diverse weight for the second"
   ],
   "metadata": {
    "collapsed": false,
    "pycharm": {
     "name": "#%% md\n"
    }
   }
  },
  {
   "cell_type": "code",
   "execution_count": 34,
   "outputs": [
    {
     "name": "stdout",
     "output_type": "stream",
     "text": [
      "EASE - Average nDCG@10: 0.9243, Average Gini Coefficient: 0.1128\n",
      "Combined Neural Recommender System - Average nDCG@10: 0.8766, Average Gini Coefficient: 0.2275\n",
      "Combined Neural Diversity Recommender System - Average nDCG@10: 0.8401, Average Gini Coefficient: 0.2158\n"
     ]
    }
   ],
   "source": [
    "directory_more_diverse = './static/evaluations/more-diverse/'\n",
    "calculate_for_directory(directory_more_diverse)"
   ],
   "metadata": {
    "collapsed": false,
    "pycharm": {
     "name": "#%%\n"
    }
   }
  },
  {
   "cell_type": "markdown",
   "source": [
    "Calculations for maximal neural scenario - 1 weight for neural-only and 0.7 for diversity-tuned (diversity weight 0.299)"
   ],
   "metadata": {
    "collapsed": false,
    "pycharm": {
     "name": "#%% md\n"
    }
   }
  },
  {
   "cell_type": "code",
   "execution_count": 36,
   "outputs": [
    {
     "name": "stdout",
     "output_type": "stream",
     "text": [
      "EASE - Average nDCG@10: 0.8913, Average Gini Coefficient: 0.1570\n",
      "Combined Neural Recommender System - Average nDCG@10: 0.8443, Average Gini Coefficient: 0.2458\n",
      "Combined Neural Diversity Recommender System - Average nDCG@10: 0.8430, Average Gini Coefficient: 0.2495\n"
     ]
    }
   ],
   "source": [
    "directory_max_neural = './static/evaluations/max-neural/'\n",
    "calculate_for_directory(directory_max_neural)"
   ],
   "metadata": {
    "collapsed": false,
    "pycharm": {
     "name": "#%%\n"
    }
   }
  },
  {
   "cell_type": "markdown",
   "source": [
    "Generally, neural algorithms suggested less relevant results. More than that, often results were quite similar for different types of users. However, these systems sometimes recommended items from the 'long tail'. With maximization of neural weight lower diverse was achieved if we consider Gini Coefficient as a relevant metric for it."
   ],
   "metadata": {
    "collapsed": false,
    "pycharm": {
     "name": "#%% md\n"
    }
   }
  },
  {
   "cell_type": "code",
   "execution_count": null,
   "outputs": [],
   "source": [],
   "metadata": {
    "collapsed": false,
    "pycharm": {
     "name": "#%%\n"
    }
   }
  }
 ],
 "metadata": {
  "kernelspec": {
   "display_name": "Python 3",
   "language": "python",
   "name": "python3"
  },
  "language_info": {
   "codemirror_mode": {
    "name": "ipython",
    "version": 2
   },
   "file_extension": ".py",
   "mimetype": "text/x-python",
   "name": "python",
   "nbconvert_exporter": "python",
   "pygments_lexer": "ipython2",
   "version": "2.7.6"
  }
 },
 "nbformat": 4,
 "nbformat_minor": 0
}