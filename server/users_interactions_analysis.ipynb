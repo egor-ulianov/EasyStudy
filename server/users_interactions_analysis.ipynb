{
 "cells": [
  {
   "cell_type": "code",
   "source": [
    "from collections import Counter\n",
    "import sqlite3\n",
    "import pandas as pd\n",
    "import json\n",
    "from datetime import datetime\n",
    "import numpy as np\n",
    "\n",
    "def gini_index(array):\n",
    "    \"\"\"Calculate the Gini index of a numpy array.\"\"\"\n",
    "    array = np.array(array)\n",
    "    if array.ndim == 0:\n",
    "        return 0\n",
    "    array = array.flatten()\n",
    "    if np.amin(array) < 0:\n",
    "        array -= np.amin(array)\n",
    "    array += 0.0000001  # to avoid division by zero\n",
    "    array = np.sort(array)\n",
    "    index = np.arange(1, array.shape[0] + 1)\n",
    "    n = array.shape[0]\n",
    "    return ((np.sum((2 * index - n - 1) * array)) / (n * np.sum(array)))\n",
    "\n",
    "# Connect to the SQLite database\n",
    "conn = sqlite3.connect('./instance/db.sqlite')\n",
    "\n",
    "# Create a cursor object\n",
    "cursor = conn.cursor()\n",
    "\n",
    "# Get today's date\n",
    "border = datetime.fromisoformat('2024-09-03').strftime('%Y-%m-%d')\n",
    "\n",
    "# Query the interactions table for rows with interaction_type 'iteration-started' from today\n",
    "query = \"\"\"\n",
    "SELECT data FROM interaction\n",
    "WHERE interaction_type = 'iteration-started' AND date(time) > ?\n",
    "\"\"\"\n",
    "cursor.execute(query, (border,))\n",
    "rows = cursor.fetchall()\n",
    "\n",
    "# Close the connection\n",
    "conn.close()\n",
    "\n",
    "# Extract and parse the data\n",
    "data_list = [json.loads(row[0]) for row in rows]\n",
    "#print(data_list[0])\n",
    "\n",
    "# Initialize dictionaries to store the shown counts for each algorithm\n",
    "shown_counts = {'EASE': [], 'CNRS': [], 'CNDRS': [], 'CNFRS': [], 'CNDFRS': []}\n",
    "shown_genres = {'EASE': [], 'CNRS': [], 'CNDRS': [], 'CNFRS': [], 'CNDFRS': []}\n",
    "\n",
    "# Extract the shown field for each algorithm\n",
    "for data in data_list:\n",
    "    for algorithm in shown_counts.keys():\n",
    "        if algorithm in data['movies']:\n",
    "            shown_counts[algorithm].extend([float(item['movie_idx']) for item in data['movies'][algorithm]['movies']])\n",
    "            shown_genres[algorithm].extend([genre for movie in data['movies'][algorithm]['movies'] for genre in movie['genres']])\n",
    "            \n",
    "#print(shown_counts)\n",
    "#print(shown_genres)\n",
    "\n",
    "genre_to_id = {}\n",
    "current_id = 0.0\n",
    "for algorithm, genres in shown_genres.items():\n",
    "    for genre in genres:\n",
    "        if genre not in genre_to_id:\n",
    "            genre_to_id[genre] = current_id\n",
    "            current_id += 1.0\n",
    "    shown_genres[algorithm] = [genre_to_id[genre] for genre in genres]\n",
    "\n",
    "# Calculate the Gini index for each algorithm\n",
    "gini_indices = {algorithm: gini_index(shown_counts[algorithm]) for algorithm in shown_counts.keys()}\n",
    "gini_indices_genres = {algorithm: gini_index(shown_genres[algorithm]) for algorithm in shown_genres.keys()}\n",
    "\n",
    "# Print the Gini index for each algorithm\n",
    "for algorithm, gini in gini_indices.items():\n",
    "    print(f\"{algorithm} - Gini Index: {gini:.4f}\")\n",
    "    \n",
    "for algorithm, gini in gini_indices_genres.items():\n",
    "    print(f\"{algorithm} - Gini Index for genres: {gini:.4f}\")"
   ],
   "metadata": {
    "collapsed": false,
    "pycharm": {
     "name": "#%%\n"
    },
    "ExecuteTime": {
     "end_time": "2024-09-08T07:39:06.053367Z",
     "start_time": "2024-09-08T07:39:05.798160Z"
    }
   },
   "outputs": [
    {
     "name": "stdout",
     "output_type": "stream",
     "text": [
      "EASE - Gini Index: 0.3300\n",
      "CNRS - Gini Index: 0.3569\n",
      "CNDRS - Gini Index: 0.3024\n",
      "CNFRS - Gini Index: 0.3379\n",
      "CNDFRS - Gini Index: 0.3407\n",
      "CNDRS - shift 0.2 - Gini Index: 0.3133\n",
      "CNDFRS - shift 0.2 - Gini Index: 0.3479\n",
      "EASE - Gini Index for genres: 0.3338\n",
      "CNRS - Gini Index for genres: 0.4205\n",
      "CNDRS - Gini Index for genres: 0.4338\n",
      "CNFRS - Gini Index for genres: 0.3878\n",
      "CNDFRS - Gini Index for genres: 0.3719\n",
      "CNDRS - shift 0.2 - Gini Index for genres: 0.4208\n",
      "CNDFRS - shift 0.2 - Gini Index for genres: 0.3874\n"
     ]
    }
   ],
   "execution_count": 70
  },
  {
   "metadata": {
    "ExecuteTime": {
     "end_time": "2024-09-08T07:57:06.288801Z",
     "start_time": "2024-09-08T07:57:06.155941Z"
    }
   },
   "cell_type": "code",
   "source": [
    "conn = sqlite3.connect('./instance/db.sqlite')\n",
    "\n",
    "# Create a cursor object\n",
    "cursor = conn.cursor()\n",
    "\n",
    "# Get today's date\n",
    "border = datetime.fromisoformat('2024-09-03').strftime('%Y-%m-%d')\n",
    "\n",
    "# Query the interactions table for rows with interaction_type 'iteration-started' from today\n",
    "query = \"\"\"\n",
    "SELECT data FROM interaction\n",
    "WHERE interaction_type = 'iteration-ended' AND date(time) > ?\n",
    "\"\"\"\n",
    "cursor.execute(query, (border,))\n",
    "rows = cursor.fetchall()\n",
    "\n",
    "# Close the connection\n",
    "conn.close()\n",
    "\n",
    "data_list = [json.loads(row[0]) for row in rows]\n",
    "print(data_list[len(data_list)-1])"
   ],
   "outputs": [
    {
     "name": "stdout",
     "output_type": "stream",
     "text": [
      "{'iteration': 5, 'selected': [[1174, 921, 1405, 1044, 1411, 1378, 60, 1178, 996], [314, 949, 292, 814, 77, 1534, 469, 1631, 610, 980, 504, 231, 357], [293, 1239, 1451, 1372, 327, 927, 628, 1104, 218], [86, 1041, 0, 1047, 202, 1296, 112, 1561, 1179]], 'selected_variants': [[0, 0, 0, 0, 0, 1, 1, 1, 1], [0, 0, 0, 0, 0, 1, 1, 1, 1, 1, 1, 1, 1], [0, 0, 0, 0, 0, 1, 1, 1, 1], [0, 0, 1, 1, 1, 1, 1, 1, 1]], 'dont_like_anything': [False, False, False, False], 'algorithm_comparison': ['third', 'fourth', 'second', 'fourth'], 'ratings': [{'CNDRS - shift 0.2': 3, 'CNDFRS - shift 0.2': 3}, {'CNDRS - shift 0.2': 4, 'CNDFRS - shift 0.2': 3}, {'CNDRS - shift 0.2': 2, 'CNDFRS - shift 0.2': 3}, {'CNDRS - shift 0.2': 2, 'CNDFRS - shift 0.2': 3}]}\n"
     ]
    }
   ],
   "execution_count": 71
  },
  {
   "metadata": {
    "ExecuteTime": {
     "end_time": "2024-09-08T07:57:09.971754Z",
     "start_time": "2024-09-08T07:57:09.948484Z"
    }
   },
   "cell_type": "code",
   "source": [
    "all_recommended_items = {algorithm: [] for algorithm in shown_counts.keys()}\n",
    "all_selected_items = []\n",
    "\n",
    "for data in data_list:\n",
    "    all_selected_items.extend(data['selected'])\n",
    "    \n",
    "all_selected_items = set(np.hstack(np.array(all_selected_items, dtype=object)))\n",
    "\n",
    "all_recommended_items = shown_counts\n",
    "for algorithm, items in all_recommended_items.items():\n",
    "    all_recommended_items[algorithm] = set(np.hstack(np.array(list(int(a) for a in items), dtype=object)))\n"
   ],
   "outputs": [],
   "execution_count": 72
  },
  {
   "metadata": {
    "ExecuteTime": {
     "end_time": "2024-09-08T07:57:13.051573Z",
     "start_time": "2024-09-08T07:57:13.045036Z"
    }
   },
   "cell_type": "code",
   "source": [
    "def calculate_recall(recommended_items, selected_items):\n",
    "    return len(recommended_items.intersection(selected_items)) / len(selected_items)\n",
    "\n",
    "def calculate_precision(recommended_items, selected_items):\n",
    "    return len(recommended_items.intersection(selected_items)) / len(recommended_items)\n",
    "\n",
    "def calculate_f1_score(precision, recall):\n",
    "    return 2 * (precision * recall) / (precision + recall)\n",
    "\n",
    "min_recommended_items_count = min([len(items) for items in all_recommended_items.values()])\n",
    "\n",
    "for algorithm in all_recommended_items.keys():\n",
    "    recall = calculate_recall(set(list(all_recommended_items[algorithm])[:min_recommended_items_count]), all_selected_items)\n",
    "    precision = calculate_precision(set(list(all_recommended_items[algorithm])[:min_recommended_items_count]), all_selected_items)\n",
    "    f1_score = calculate_f1_score(precision, recall)\n",
    "    print(f\"{algorithm} - Recall: {recall:.4f}, Precision: {precision:.4f}, F1 Score: {f1_score:.4f}\")"
   ],
   "outputs": [
    {
     "name": "stdout",
     "output_type": "stream",
     "text": [
      "EASE - Recall: 0.2311, Precision: 0.9266, F1 Score: 0.3700\n",
      "CNRS - Recall: 0.2311, Precision: 0.9266, F1 Score: 0.3700\n",
      "CNDRS - Recall: 0.2082, Precision: 0.8349, F1 Score: 0.3333\n",
      "CNFRS - Recall: 0.2403, Precision: 0.9633, F1 Score: 0.3846\n",
      "CNDFRS - Recall: 0.2174, Precision: 0.8716, F1 Score: 0.3480\n",
      "CNDRS - shift 0.2 - Recall: 0.2197, Precision: 0.8807, F1 Score: 0.3516\n",
      "CNDFRS - shift 0.2 - Recall: 0.2265, Precision: 0.9083, F1 Score: 0.3626\n"
     ]
    }
   ],
   "execution_count": 73
  },
  {
   "metadata": {
    "ExecuteTime": {
     "end_time": "2024-09-09T05:54:44.047995Z",
     "start_time": "2024-09-09T05:54:43.972363Z"
    }
   },
   "cell_type": "code",
   "source": [
    "import pandas as pd\n",
    "items_popular = pd.read_csv('/Users/egorulanov/Studies/RecSys/EasyStudy/server/ratings_200_df.csv', header=0, index_col=0).to_dict()\n",
    "\n",
    "items_high_rated = pd.read_csv('/Users/egorulanov/Studies/RecSys/EasyStudy/server/ratings_200_highest_df.csv', header=0, index_col=0).to_dict()\n",
    "\n",
    "for algorithm in all_recommended_items.keys():\n",
    "    algorithm_rec_items = set(list(all_recommended_items[algorithm])[:min_recommended_items_count])\n",
    "    popular_items = set([int(item) for item in items_popular['count'].keys()])\n",
    "    intersection_popular = algorithm_rec_items.intersection(popular_items)\n",
    "    high_rated_items = set([int(item) for item in items_high_rated['rating'].keys()])\n",
    "    intersection_high_rated = algorithm_rec_items.intersection(high_rated_items)\n",
    "    print(f\"{algorithm} - Popular items in recommendations: {len(intersection_popular)}\")\n",
    "    print(f\"{algorithm} - High rated items in recommendations: {len(intersection_high_rated)}\")\n"
   ],
   "outputs": [
    {
     "name": "stdout",
     "output_type": "stream",
     "text": [
      "EASE - Popular items in recommendations: 61\n",
      "EASE - High rated items in recommendations: 61\n",
      "CNRS - Popular items in recommendations: 28\n",
      "CNRS - High rated items in recommendations: 27\n",
      "CNDRS - Popular items in recommendations: 14\n",
      "CNDRS - High rated items in recommendations: 13\n",
      "CNFRS - Popular items in recommendations: 49\n",
      "CNFRS - High rated items in recommendations: 49\n",
      "CNDFRS - Popular items in recommendations: 35\n",
      "CNDFRS - High rated items in recommendations: 35\n",
      "CNDRS - shift 0.2 - Popular items in recommendations: 21\n",
      "CNDRS - shift 0.2 - High rated items in recommendations: 20\n",
      "CNDFRS - shift 0.2 - Popular items in recommendations: 44\n",
      "CNDFRS - shift 0.2 - High rated items in recommendations: 45\n"
     ]
    }
   ],
   "execution_count": 80
  },
  {
   "metadata": {},
   "cell_type": "code",
   "outputs": [],
   "execution_count": null,
   "source": ""
  }
 ],
 "metadata": {
  "kernelspec": {
   "display_name": "Python 3",
   "language": "python",
   "name": "python3"
  },
  "language_info": {
   "codemirror_mode": {
    "name": "ipython",
    "version": 2
   },
   "file_extension": ".py",
   "mimetype": "text/x-python",
   "name": "python",
   "nbconvert_exporter": "python",
   "pygments_lexer": "ipython2",
   "version": "2.7.6"
  }
 },
 "nbformat": 4,
 "nbformat_minor": 0
}
